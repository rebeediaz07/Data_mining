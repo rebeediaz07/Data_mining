{
 "cells": [
  {
   "cell_type": "code",
   "execution_count": 1,
   "metadata": {},
   "outputs": [],
   "source": [
    "import pandas as pd\n",
    "import numpy as np\n",
    "import matplotlib.pyplot as plt\n",
    "import seaborn as sns\n",
    "import math\n",
    "import scipy.stats as st\n",
    "pd.set_option('display.max_columns',500)\n",
    "%matplotlib inline"
   ]
  },
  {
   "cell_type": "code",
   "execution_count": 2,
   "metadata": {},
   "outputs": [],
   "source": [
    "df = pd.read_csv('Numeros_Aleatorios.csv')"
   ]
  },
  {
   "cell_type": "code",
   "execution_count": 3,
   "metadata": {},
   "outputs": [
    {
     "data": {
      "text/html": [
       "<div>\n",
       "<style scoped>\n",
       "    .dataframe tbody tr th:only-of-type {\n",
       "        vertical-align: middle;\n",
       "    }\n",
       "\n",
       "    .dataframe tbody tr th {\n",
       "        vertical-align: top;\n",
       "    }\n",
       "\n",
       "    .dataframe thead th {\n",
       "        text-align: right;\n",
       "    }\n",
       "</style>\n",
       "<table border=\"1\" class=\"dataframe\">\n",
       "  <thead>\n",
       "    <tr style=\"text-align: right;\">\n",
       "      <th></th>\n",
       "      <th>Index</th>\n",
       "      <th>Von_Neumann</th>\n",
       "      <th>Congruencias_Multiplicativas</th>\n",
       "      <th>Congruencias_Mixtas</th>\n",
       "      <th>Python</th>\n",
       "    </tr>\n",
       "  </thead>\n",
       "  <tbody>\n",
       "    <tr>\n",
       "      <th>0</th>\n",
       "      <td>1</td>\n",
       "      <td>0.5126</td>\n",
       "      <td>0.12658</td>\n",
       "      <td>0.18407</td>\n",
       "      <td>0.70190</td>\n",
       "    </tr>\n",
       "    <tr>\n",
       "      <th>1</th>\n",
       "      <td>2</td>\n",
       "      <td>0.2758</td>\n",
       "      <td>0.08838</td>\n",
       "      <td>0.19803</td>\n",
       "      <td>0.62808</td>\n",
       "    </tr>\n",
       "    <tr>\n",
       "      <th>2</th>\n",
       "      <td>3</td>\n",
       "      <td>0.6065</td>\n",
       "      <td>0.04835</td>\n",
       "      <td>0.21204</td>\n",
       "      <td>0.44255</td>\n",
       "    </tr>\n",
       "    <tr>\n",
       "      <th>3</th>\n",
       "      <td>4</td>\n",
       "      <td>0.7842</td>\n",
       "      <td>0.20286</td>\n",
       "      <td>0.01134</td>\n",
       "      <td>0.03810</td>\n",
       "    </tr>\n",
       "    <tr>\n",
       "      <th>4</th>\n",
       "      <td>5</td>\n",
       "      <td>0.4969</td>\n",
       "      <td>0.06558</td>\n",
       "      <td>0.02544</td>\n",
       "      <td>0.13943</td>\n",
       "    </tr>\n",
       "  </tbody>\n",
       "</table>\n",
       "</div>"
      ],
      "text/plain": [
       "   Index  Von_Neumann  Congruencias_Multiplicativas  Congruencias_Mixtas  \\\n",
       "0      1       0.5126                       0.12658              0.18407   \n",
       "1      2       0.2758                       0.08838              0.19803   \n",
       "2      3       0.6065                       0.04835              0.21204   \n",
       "3      4       0.7842                       0.20286              0.01134   \n",
       "4      5       0.4969                       0.06558              0.02544   \n",
       "\n",
       "    Python  \n",
       "0  0.70190  \n",
       "1  0.62808  \n",
       "2  0.44255  \n",
       "3  0.03810  \n",
       "4  0.13943  "
      ]
     },
     "execution_count": 3,
     "metadata": {},
     "output_type": "execute_result"
    }
   ],
   "source": [
    "df.head()"
   ]
  },
  {
   "cell_type": "code",
   "execution_count": 15,
   "metadata": {},
   "outputs": [
    {
     "data": {
      "text/plain": [
       "Text(0.5, 1.0, 'Método de cuadrados medios')"
      ]
     },
     "execution_count": 15,
     "metadata": {},
     "output_type": "execute_result"
    },
    {
     "data": {
      "image/png": "[encoded data removed]",
      "text/plain": [
       "<Figure size 432x288 with 1 Axes>"
      ]
     },
     "metadata": {
      "needs_background": "light"
     },
     "output_type": "display_data"
    }
   ],
   "source": [
    "sns.scatterplot(x='Index', y='Von_Neumann', data=df)\n",
    "plt.title('Método de cuadrados medios')"
   ]
  },
  {
   "cell_type": "code",
   "execution_count": 12,
   "metadata": {},
   "outputs": [
    {
     "data": {
      "text/plain": [
       "Text(0.5, 1.0, 'Método congruencial multiplicativo')"
      ]
     },
     "execution_count": 12,
     "metadata": {},
     "output_type": "execute_result"
    },
    {
     "data": {
      "image/png": "[encoded data removed]",
      "text/plain": [
       "<Figure size 432x288 with 1 Axes>"
      ]
     },
     "metadata": {
      "needs_background": "light"
     },
     "output_type": "display_data"
    }
   ],
   "source": [
    "sns.scatterplot(x='Index', y='Congruencias_Multiplicativas', data=df)\n",
    "plt.title('Método congruencial multiplicativo')"
   ]
  },
  {
   "cell_type": "code",
   "execution_count": 13,
   "metadata": {},
   "outputs": [
    {
     "data": {
      "text/plain": [
       "Text(0.5, 1.0, 'Método congruncial mixto')"
      ]
     },
     "execution_count": 13,
     "metadata": {},
     "output_type": "execute_result"
    },
    {
     "data": {
      "image/png": "[encoded data removed]",
      "text/plain": [
       "<Figure size 432x288 with 1 Axes>"
      ]
     },
     "metadata": {
      "needs_background": "light"
     },
     "output_type": "display_data"
    }
   ],
   "source": [
    "sns.scatterplot(x='Index', y='Congruencias_Mixtas', data=df)\n",
    "plt.title('Método congruncial mixto')"
   ]
  },
  {
   "cell_type": "code",
   "execution_count": 17,
   "metadata": {},
   "outputs": [
    {
     "data": {
      "text/plain": [
       "Text(0.5, 1.0, 'Números generados con Python')"
      ]
     },
     "execution_count": 17,
     "metadata": {},
     "output_type": "execute_result"
    },
    {
     "data": {
      "image/png": "[encoded data removed]",
      "text/plain": [
       "<Figure size 432x288 with 1 Axes>"
      ]
     },
     "metadata": {
      "needs_background": "light"
     },
     "output_type": "display_data"
    }
   ],
   "source": [
    "sns.scatterplot(x='Index', y='Python', data=df)\n",
    "plt.title('Números generados con Python')"
   ]
  },
  {
   "cell_type": "markdown",
   "metadata": {},
   "source": [
    "## Pruebas de uniformidad"
   ]
  },
  {
   "cell_type": "markdown",
   "metadata": {},
   "source": [
    "### Ji-Cuadrada"
   ]
  },
  {
   "cell_type": "code",
   "execution_count": 16,
   "metadata": {},
   "outputs": [],
   "source": [
    "tab = pd.DataFrame(index=['[0-0.1)','[0.1-0.2)','[0.2-0.3)','[0.3-0.4)','[0.4-0.5)','[0.5-0.6)','[0.6-0.7)','[0.7-0.8)',\n",
    "                          '[0.8-0.9)','[0.9-1)'],columns=['FrecE','FrecO_CuMe', 'O-E_CuMe','FrecO_CoMu', 'O-E_CoMu',\n",
    "                                                          'FrecO_CoMi', 'O-E_CoMi','FrecO_Py', 'O-E_Py'])"
   ]
  },
  {
   "cell_type": "code",
   "execution_count": 17,
   "metadata": {},
   "outputs": [],
   "source": [
    "tab['FrecE']=10"
   ]
  },
  {
   "cell_type": "code",
   "execution_count": 18,
   "metadata": {},
   "outputs": [],
   "source": [
    "freq, lower, bins, extra=st.relfreq(df.Von_Neumann, numbins=10, defaultreallimits=(0,1))\n",
    "freq= freq*100\n",
    "tab['FrecO_CuMe']=freq\n",
    "tab['O-E_CuMe']= pow(tab['FrecO_CuMe']-tab['FrecE'],2)/tab['FrecE']"
   ]
  },
  {
   "cell_type": "code",
   "execution_count": 19,
   "metadata": {
    "scrolled": false
   },
   "outputs": [],
   "source": [
    "freq, lower, bins, extra=st.relfreq(df.Congruencias_Multiplicativas, numbins=10, defaultreallimits=(0,1))\n",
    "freq= freq*100\n",
    "tab['FrecO_CoMu']=freq\n",
    "tab['O-E_CoMu']= pow(tab['FrecO_CoMu']-tab['FrecE'],2)/tab['FrecE']"
   ]
  },
  {
   "cell_type": "code",
   "execution_count": 20,
   "metadata": {},
   "outputs": [],
   "source": [
    "freq, lower, bins, extra=st.relfreq(df.Congruencias_Mixtas, numbins=10, defaultreallimits=(0,1))\n",
    "freq= freq*100\n",
    "tab['FrecO_CoMi']=freq\n",
    "tab['O-E_CoMi']= pow(tab['FrecO_CoMi']-tab['FrecE'],2)/tab['FrecE']"
   ]
  },
  {
   "cell_type": "code",
   "execution_count": 21,
   "metadata": {},
   "outputs": [],
   "source": [
    "freq, lower, bins, extra=st.relfreq(df.Python, numbins=10, defaultreallimits=(0,1))\n",
    "freq= freq*100\n",
    "tab['FrecO_Py']=freq\n",
    "tab['O-E_Py']= pow(tab['FrecO_Py']-tab['FrecE'],2)/tab['FrecE']"
   ]
  },
  {
   "cell_type": "code",
   "execution_count": 22,
   "metadata": {},
   "outputs": [
    {
     "data": {
      "text/html": [
       "<div>\n",
       "<style scoped>\n",
       "    .dataframe tbody tr th:only-of-type {\n",
       "        vertical-align: middle;\n",
       "    }\n",
       "\n",
       "    .dataframe tbody tr th {\n",
       "        vertical-align: top;\n",
       "    }\n",
       "\n",
       "    .dataframe thead th {\n",
       "        text-align: right;\n",
       "    }\n",
       "</style>\n",
       "<table border=\"1\" class=\"dataframe\">\n",
       "  <thead>\n",
       "    <tr style=\"text-align: right;\">\n",
       "      <th></th>\n",
       "      <th>FrecE</th>\n",
       "      <th>FrecO_CuMe</th>\n",
       "      <th>O-E_CuMe</th>\n",
       "      <th>FrecO_CoMu</th>\n",
       "      <th>O-E_CoMu</th>\n",
       "      <th>FrecO_CoMi</th>\n",
       "      <th>O-E_CoMi</th>\n",
       "      <th>FrecO_Py</th>\n",
       "      <th>O-E_Py</th>\n",
       "    </tr>\n",
       "  </thead>\n",
       "  <tbody>\n",
       "    <tr>\n",
       "      <th>[0-0.1)</th>\n",
       "      <td>10</td>\n",
       "      <td>7.0</td>\n",
       "      <td>0.9</td>\n",
       "      <td>59.0</td>\n",
       "      <td>240.1</td>\n",
       "      <td>46.0</td>\n",
       "      <td>129.6</td>\n",
       "      <td>5.0</td>\n",
       "      <td>2.5</td>\n",
       "    </tr>\n",
       "    <tr>\n",
       "      <th>[0.1-0.2)</th>\n",
       "      <td>10</td>\n",
       "      <td>10.0</td>\n",
       "      <td>0.0</td>\n",
       "      <td>36.0</td>\n",
       "      <td>67.6</td>\n",
       "      <td>47.0</td>\n",
       "      <td>136.9</td>\n",
       "      <td>11.0</td>\n",
       "      <td>0.1</td>\n",
       "    </tr>\n",
       "    <tr>\n",
       "      <th>[0.2-0.3)</th>\n",
       "      <td>10</td>\n",
       "      <td>15.0</td>\n",
       "      <td>2.5</td>\n",
       "      <td>5.0</td>\n",
       "      <td>2.5</td>\n",
       "      <td>7.0</td>\n",
       "      <td>0.9</td>\n",
       "      <td>12.0</td>\n",
       "      <td>0.4</td>\n",
       "    </tr>\n",
       "    <tr>\n",
       "      <th>[0.3-0.4)</th>\n",
       "      <td>10</td>\n",
       "      <td>8.0</td>\n",
       "      <td>0.4</td>\n",
       "      <td>0.0</td>\n",
       "      <td>10.0</td>\n",
       "      <td>0.0</td>\n",
       "      <td>10.0</td>\n",
       "      <td>8.0</td>\n",
       "      <td>0.4</td>\n",
       "    </tr>\n",
       "    <tr>\n",
       "      <th>[0.4-0.5)</th>\n",
       "      <td>10</td>\n",
       "      <td>7.0</td>\n",
       "      <td>0.9</td>\n",
       "      <td>0.0</td>\n",
       "      <td>10.0</td>\n",
       "      <td>0.0</td>\n",
       "      <td>10.0</td>\n",
       "      <td>11.0</td>\n",
       "      <td>0.1</td>\n",
       "    </tr>\n",
       "    <tr>\n",
       "      <th>[0.5-0.6)</th>\n",
       "      <td>10</td>\n",
       "      <td>8.0</td>\n",
       "      <td>0.4</td>\n",
       "      <td>0.0</td>\n",
       "      <td>10.0</td>\n",
       "      <td>0.0</td>\n",
       "      <td>10.0</td>\n",
       "      <td>12.0</td>\n",
       "      <td>0.4</td>\n",
       "    </tr>\n",
       "    <tr>\n",
       "      <th>[0.6-0.7)</th>\n",
       "      <td>10</td>\n",
       "      <td>17.0</td>\n",
       "      <td>4.9</td>\n",
       "      <td>0.0</td>\n",
       "      <td>10.0</td>\n",
       "      <td>0.0</td>\n",
       "      <td>10.0</td>\n",
       "      <td>9.0</td>\n",
       "      <td>0.1</td>\n",
       "    </tr>\n",
       "    <tr>\n",
       "      <th>[0.7-0.8)</th>\n",
       "      <td>10</td>\n",
       "      <td>14.0</td>\n",
       "      <td>1.6</td>\n",
       "      <td>0.0</td>\n",
       "      <td>10.0</td>\n",
       "      <td>0.0</td>\n",
       "      <td>10.0</td>\n",
       "      <td>10.0</td>\n",
       "      <td>0.0</td>\n",
       "    </tr>\n",
       "    <tr>\n",
       "      <th>[0.8-0.9)</th>\n",
       "      <td>10</td>\n",
       "      <td>11.0</td>\n",
       "      <td>0.1</td>\n",
       "      <td>0.0</td>\n",
       "      <td>10.0</td>\n",
       "      <td>0.0</td>\n",
       "      <td>10.0</td>\n",
       "      <td>11.0</td>\n",
       "      <td>0.1</td>\n",
       "    </tr>\n",
       "    <tr>\n",
       "      <th>[0.9-1)</th>\n",
       "      <td>10</td>\n",
       "      <td>3.0</td>\n",
       "      <td>4.9</td>\n",
       "      <td>0.0</td>\n",
       "      <td>10.0</td>\n",
       "      <td>0.0</td>\n",
       "      <td>10.0</td>\n",
       "      <td>11.0</td>\n",
       "      <td>0.1</td>\n",
       "    </tr>\n",
       "  </tbody>\n",
       "</table>\n",
       "</div>"
      ],
      "text/plain": [
       "           FrecE  FrecO_CuMe  O-E_CuMe  FrecO_CoMu  O-E_CoMu  FrecO_CoMi  \\\n",
       "[0-0.1)       10         7.0       0.9        59.0     240.1        46.0   \n",
       "[0.1-0.2)     10        10.0       0.0        36.0      67.6        47.0   \n",
       "[0.2-0.3)     10        15.0       2.5         5.0       2.5         7.0   \n",
       "[0.3-0.4)     10         8.0       0.4         0.0      10.0         0.0   \n",
       "[0.4-0.5)     10         7.0       0.9         0.0      10.0         0.0   \n",
       "[0.5-0.6)     10         8.0       0.4         0.0      10.0         0.0   \n",
       "[0.6-0.7)     10        17.0       4.9         0.0      10.0         0.0   \n",
       "[0.7-0.8)     10        14.0       1.6         0.0      10.0         0.0   \n",
       "[0.8-0.9)     10        11.0       0.1         0.0      10.0         0.0   \n",
       "[0.9-1)       10         3.0       4.9         0.0      10.0         0.0   \n",
       "\n",
       "           O-E_CoMi  FrecO_Py  O-E_Py  \n",
       "[0-0.1)       129.6       5.0     2.5  \n",
       "[0.1-0.2)     136.9      11.0     0.1  \n",
       "[0.2-0.3)       0.9      12.0     0.4  \n",
       "[0.3-0.4)      10.0       8.0     0.4  \n",
       "[0.4-0.5)      10.0      11.0     0.1  \n",
       "[0.5-0.6)      10.0      12.0     0.4  \n",
       "[0.6-0.7)      10.0       9.0     0.1  \n",
       "[0.7-0.8)      10.0      10.0     0.0  \n",
       "[0.8-0.9)      10.0      11.0     0.1  \n",
       "[0.9-1)        10.0      11.0     0.1  "
      ]
     },
     "execution_count": 22,
     "metadata": {},
     "output_type": "execute_result"
    }
   ],
   "source": [
    "tab"
   ]
  },
  {
   "cell_type": "markdown",
   "metadata": {},
   "source": [
    "Estadístico de prueba para los números generados con cuadrados medios"
   ]
  },
  {
   "cell_type": "code",
   "execution_count": 115,
   "metadata": {},
   "outputs": [
    {
     "data": {
      "text/plain": [
       "16.6"
      ]
     },
     "execution_count": 115,
     "metadata": {},
     "output_type": "execute_result"
    }
   ],
   "source": [
    "tab['O-E_CuMe'].sum()"
   ]
  },
  {
   "cell_type": "markdown",
   "metadata": {},
   "source": [
    "Estadístico de prueba para los números generados con congruencias multiplicativas"
   ]
  },
  {
   "cell_type": "code",
   "execution_count": 116,
   "metadata": {},
   "outputs": [
    {
     "data": {
      "text/plain": [
       "380.2"
      ]
     },
     "execution_count": 116,
     "metadata": {},
     "output_type": "execute_result"
    }
   ],
   "source": [
    "tab['O-E_CoMu'].sum()"
   ]
  },
  {
   "cell_type": "markdown",
   "metadata": {},
   "source": [
    "Estadístico de prueba para los números generados con congruencias mixtas"
   ]
  },
  {
   "cell_type": "code",
   "execution_count": 117,
   "metadata": {},
   "outputs": [
    {
     "data": {
      "text/plain": [
       "337.4"
      ]
     },
     "execution_count": 117,
     "metadata": {},
     "output_type": "execute_result"
    }
   ],
   "source": [
    "tab['O-E_CoMi'].sum()"
   ]
  },
  {
   "cell_type": "markdown",
   "metadata": {},
   "source": [
    "Estadístico de prueba para los números generados con Python"
   ]
  },
  {
   "cell_type": "code",
   "execution_count": 118,
   "metadata": {},
   "outputs": [
    {
     "data": {
      "text/plain": [
       "4.199999999999999"
      ]
     },
     "execution_count": 118,
     "metadata": {},
     "output_type": "execute_result"
    }
   ],
   "source": [
    "tab['O-E_Py'].sum()"
   ]
  },
  {
   "cell_type": "markdown",
   "metadata": {},
   "source": [
    "Región de rechazo $X^2>X^2_{0.05,9}=16.919$"
   ]
  },
  {
   "cell_type": "markdown",
   "metadata": {},
   "source": [
    "### Kolmogorov-Smirnov"
   ]
  },
  {
   "cell_type": "code",
   "execution_count": 52,
   "metadata": {},
   "outputs": [],
   "source": [
    "tabk = pd.DataFrame(index=range(1,101,1),columns=['F(Xi)','Xi_CuMe', 'Xi-F(Xi)_CuMe','Xi_CoMu', 'Xi-F(Xi)_CoMu',\n",
    "                                                          'Xi_CoMi', 'Xi-F(Xi)_CoMi','Xi_Py', 'Xi-F(Xi)_Py'])"
   ]
  },
  {
   "cell_type": "code",
   "execution_count": 89,
   "metadata": {},
   "outputs": [],
   "source": [
    "tabk['F(Xi)']=np.arange(.01,1.01,.01)"
   ]
  },
  {
   "cell_type": "code",
   "execution_count": 116,
   "metadata": {},
   "outputs": [],
   "source": [
    "cume =df.Von_Neumann.to_numpy()\n",
    "cume.sort()\n",
    "tabk['Xi_CuMe']= cume\n",
    "tabk['Xi-F(Xi)_CuMe']=abs(tabk['Xi_CuMe']-tabk['F(Xi)'])"
   ]
  },
  {
   "cell_type": "code",
   "execution_count": 131,
   "metadata": {
    "scrolled": false
   },
   "outputs": [],
   "source": [
    "comu = df.Congruencias_Multiplicativas.to_numpy()\n",
    "comu.sort()\n",
    "tabk['Xi_CoMu']= df.Congruencias_Multiplicativas.sort_values()\n",
    "tabk['Xi-F(Xi)_CoMu']=abs(tabk['Xi_CoMu']-tabk['F(Xi)'])"
   ]
  },
  {
   "cell_type": "code",
   "execution_count": 132,
   "metadata": {},
   "outputs": [],
   "source": [
    "comi = df.Congruencias_Mixtas.to_numpy()\n",
    "comi.sort()\n",
    "tabk['Xi_CoMi']= df.Congruencias_Mixtas.sort_values()\n",
    "tabk['Xi-F(Xi)_CoMi']=abs(tabk['Xi_CoMi']-tabk['F(Xi)'])"
   ]
  },
  {
   "cell_type": "code",
   "execution_count": 121,
   "metadata": {},
   "outputs": [],
   "source": [
    "py = df.Python.to_numpy()\n",
    "py.sort()\n",
    "tabk['Xi_Py']= py\n",
    "tabk['Xi-F(Xi)_Py']=abs(tabk['Xi_Py']-tabk['F(Xi)'])"
   ]
  },
  {
   "cell_type": "code",
   "execution_count": 133,
   "metadata": {
    "scrolled": true
   },
   "outputs": [
    {
     "data": {
      "text/html": [
       "<div>\n",
       "<style scoped>\n",
       "    .dataframe tbody tr th:only-of-type {\n",
       "        vertical-align: middle;\n",
       "    }\n",
       "\n",
       "    .dataframe tbody tr th {\n",
       "        vertical-align: top;\n",
       "    }\n",
       "\n",
       "    .dataframe thead th {\n",
       "        text-align: right;\n",
       "    }\n",
       "</style>\n",
       "<table border=\"1\" class=\"dataframe\">\n",
       "  <thead>\n",
       "    <tr style=\"text-align: right;\">\n",
       "      <th></th>\n",
       "      <th>F(Xi)</th>\n",
       "      <th>Xi_CuMe</th>\n",
       "      <th>Xi-F(Xi)_CuMe</th>\n",
       "      <th>Xi_CoMu</th>\n",
       "      <th>Xi-F(Xi)_CoMu</th>\n",
       "      <th>Xi_CoMi</th>\n",
       "      <th>Xi-F(Xi)_CoMi</th>\n",
       "      <th>Xi_Py</th>\n",
       "      <th>Xi-F(Xi)_Py</th>\n",
       "    </tr>\n",
       "  </thead>\n",
       "  <tbody>\n",
       "    <tr>\n",
       "      <th>1</th>\n",
       "      <td>0.01</td>\n",
       "      <td>0.0140</td>\n",
       "      <td>4.000000e-03</td>\n",
       "      <td>0.00525</td>\n",
       "      <td>0.00475</td>\n",
       "      <td>0.00928</td>\n",
       "      <td>0.00072</td>\n",
       "      <td>0.00100</td>\n",
       "      <td>0.00900</td>\n",
       "    </tr>\n",
       "    <tr>\n",
       "      <th>2</th>\n",
       "      <td>0.02</td>\n",
       "      <td>0.0196</td>\n",
       "      <td>4.000000e-04</td>\n",
       "      <td>0.00606</td>\n",
       "      <td>0.01394</td>\n",
       "      <td>0.01134</td>\n",
       "      <td>0.00866</td>\n",
       "      <td>0.02006</td>\n",
       "      <td>0.00006</td>\n",
       "    </tr>\n",
       "    <tr>\n",
       "      <th>3</th>\n",
       "      <td>0.03</td>\n",
       "      <td>0.0362</td>\n",
       "      <td>6.200000e-03</td>\n",
       "      <td>0.00674</td>\n",
       "      <td>0.02326</td>\n",
       "      <td>0.01241</td>\n",
       "      <td>0.01759</td>\n",
       "      <td>0.03810</td>\n",
       "      <td>0.00810</td>\n",
       "    </tr>\n",
       "    <tr>\n",
       "      <th>4</th>\n",
       "      <td>0.04</td>\n",
       "      <td>0.0384</td>\n",
       "      <td>1.600000e-03</td>\n",
       "      <td>0.00864</td>\n",
       "      <td>0.03136</td>\n",
       "      <td>0.01286</td>\n",
       "      <td>0.02714</td>\n",
       "      <td>0.04866</td>\n",
       "      <td>0.00866</td>\n",
       "    </tr>\n",
       "    <tr>\n",
       "      <th>5</th>\n",
       "      <td>0.05</td>\n",
       "      <td>0.0742</td>\n",
       "      <td>2.420000e-02</td>\n",
       "      <td>0.00893</td>\n",
       "      <td>0.04107</td>\n",
       "      <td>0.01333</td>\n",
       "      <td>0.03667</td>\n",
       "      <td>0.06228</td>\n",
       "      <td>0.01228</td>\n",
       "    </tr>\n",
       "    <tr>\n",
       "      <th>6</th>\n",
       "      <td>0.06</td>\n",
       "      <td>0.0896</td>\n",
       "      <td>2.960000e-02</td>\n",
       "      <td>0.00916</td>\n",
       "      <td>0.05084</td>\n",
       "      <td>0.01468</td>\n",
       "      <td>0.04532</td>\n",
       "      <td>0.12133</td>\n",
       "      <td>0.06133</td>\n",
       "    </tr>\n",
       "    <tr>\n",
       "      <th>7</th>\n",
       "      <td>0.07</td>\n",
       "      <td>0.0965</td>\n",
       "      <td>2.650000e-02</td>\n",
       "      <td>0.01387</td>\n",
       "      <td>0.05613</td>\n",
       "      <td>0.01536</td>\n",
       "      <td>0.05464</td>\n",
       "      <td>0.12183</td>\n",
       "      <td>0.05183</td>\n",
       "    </tr>\n",
       "    <tr>\n",
       "      <th>8</th>\n",
       "      <td>0.08</td>\n",
       "      <td>0.1007</td>\n",
       "      <td>2.070000e-02</td>\n",
       "      <td>0.01423</td>\n",
       "      <td>0.06577</td>\n",
       "      <td>0.01790</td>\n",
       "      <td>0.06210</td>\n",
       "      <td>0.12937</td>\n",
       "      <td>0.04937</td>\n",
       "    </tr>\n",
       "    <tr>\n",
       "      <th>9</th>\n",
       "      <td>0.09</td>\n",
       "      <td>0.1310</td>\n",
       "      <td>4.100000e-02</td>\n",
       "      <td>0.01501</td>\n",
       "      <td>0.07499</td>\n",
       "      <td>0.02470</td>\n",
       "      <td>0.06530</td>\n",
       "      <td>0.13123</td>\n",
       "      <td>0.04123</td>\n",
       "    </tr>\n",
       "    <tr>\n",
       "      <th>10</th>\n",
       "      <td>0.10</td>\n",
       "      <td>0.1331</td>\n",
       "      <td>3.310000e-02</td>\n",
       "      <td>0.01710</td>\n",
       "      <td>0.08290</td>\n",
       "      <td>0.02544</td>\n",
       "      <td>0.07456</td>\n",
       "      <td>0.13943</td>\n",
       "      <td>0.03943</td>\n",
       "    </tr>\n",
       "    <tr>\n",
       "      <th>11</th>\n",
       "      <td>0.11</td>\n",
       "      <td>0.1474</td>\n",
       "      <td>3.740000e-02</td>\n",
       "      <td>0.01741</td>\n",
       "      <td>0.09259</td>\n",
       "      <td>0.02764</td>\n",
       "      <td>0.08236</td>\n",
       "      <td>0.14684</td>\n",
       "      <td>0.03684</td>\n",
       "    </tr>\n",
       "    <tr>\n",
       "      <th>12</th>\n",
       "      <td>0.12</td>\n",
       "      <td>0.1506</td>\n",
       "      <td>3.060000e-02</td>\n",
       "      <td>0.01896</td>\n",
       "      <td>0.10104</td>\n",
       "      <td>0.02908</td>\n",
       "      <td>0.09092</td>\n",
       "      <td>0.15421</td>\n",
       "      <td>0.03421</td>\n",
       "    </tr>\n",
       "    <tr>\n",
       "      <th>13</th>\n",
       "      <td>0.13</td>\n",
       "      <td>0.1622</td>\n",
       "      <td>3.220000e-02</td>\n",
       "      <td>0.02113</td>\n",
       "      <td>0.10887</td>\n",
       "      <td>0.03075</td>\n",
       "      <td>0.09925</td>\n",
       "      <td>0.16483</td>\n",
       "      <td>0.03483</td>\n",
       "    </tr>\n",
       "    <tr>\n",
       "      <th>14</th>\n",
       "      <td>0.14</td>\n",
       "      <td>0.1623</td>\n",
       "      <td>2.230000e-02</td>\n",
       "      <td>0.02815</td>\n",
       "      <td>0.11185</td>\n",
       "      <td>0.03114</td>\n",
       "      <td>0.10886</td>\n",
       "      <td>0.16866</td>\n",
       "      <td>0.02866</td>\n",
       "    </tr>\n",
       "    <tr>\n",
       "      <th>15</th>\n",
       "      <td>0.15</td>\n",
       "      <td>0.1649</td>\n",
       "      <td>1.490000e-02</td>\n",
       "      <td>0.03030</td>\n",
       "      <td>0.11970</td>\n",
       "      <td>0.03372</td>\n",
       "      <td>0.11628</td>\n",
       "      <td>0.17928</td>\n",
       "      <td>0.02928</td>\n",
       "    </tr>\n",
       "    <tr>\n",
       "      <th>16</th>\n",
       "      <td>0.16</td>\n",
       "      <td>0.1726</td>\n",
       "      <td>1.260000e-02</td>\n",
       "      <td>0.03180</td>\n",
       "      <td>0.12820</td>\n",
       "      <td>0.03516</td>\n",
       "      <td>0.12484</td>\n",
       "      <td>0.18150</td>\n",
       "      <td>0.02150</td>\n",
       "    </tr>\n",
       "    <tr>\n",
       "      <th>17</th>\n",
       "      <td>0.17</td>\n",
       "      <td>0.1824</td>\n",
       "      <td>1.240000e-02</td>\n",
       "      <td>0.03396</td>\n",
       "      <td>0.13604</td>\n",
       "      <td>0.03958</td>\n",
       "      <td>0.13042</td>\n",
       "      <td>0.20032</td>\n",
       "      <td>0.03032</td>\n",
       "    </tr>\n",
       "    <tr>\n",
       "      <th>18</th>\n",
       "      <td>0.18</td>\n",
       "      <td>0.2024</td>\n",
       "      <td>2.240000e-02</td>\n",
       "      <td>0.03426</td>\n",
       "      <td>0.14574</td>\n",
       "      <td>0.04018</td>\n",
       "      <td>0.13982</td>\n",
       "      <td>0.20102</td>\n",
       "      <td>0.02102</td>\n",
       "    </tr>\n",
       "    <tr>\n",
       "      <th>19</th>\n",
       "      <td>0.19</td>\n",
       "      <td>0.2082</td>\n",
       "      <td>1.820000e-02</td>\n",
       "      <td>0.03591</td>\n",
       "      <td>0.15409</td>\n",
       "      <td>0.04248</td>\n",
       "      <td>0.14752</td>\n",
       "      <td>0.20966</td>\n",
       "      <td>0.01966</td>\n",
       "    </tr>\n",
       "    <tr>\n",
       "      <th>20</th>\n",
       "      <td>0.20</td>\n",
       "      <td>0.2100</td>\n",
       "      <td>1.000000e-02</td>\n",
       "      <td>0.03630</td>\n",
       "      <td>0.16370</td>\n",
       "      <td>0.04579</td>\n",
       "      <td>0.15421</td>\n",
       "      <td>0.23103</td>\n",
       "      <td>0.03103</td>\n",
       "    </tr>\n",
       "    <tr>\n",
       "      <th>21</th>\n",
       "      <td>0.21</td>\n",
       "      <td>0.2100</td>\n",
       "      <td>2.775558e-17</td>\n",
       "      <td>0.03740</td>\n",
       "      <td>0.17260</td>\n",
       "      <td>0.04687</td>\n",
       "      <td>0.16313</td>\n",
       "      <td>0.24193</td>\n",
       "      <td>0.03193</td>\n",
       "    </tr>\n",
       "    <tr>\n",
       "      <th>22</th>\n",
       "      <td>0.22</td>\n",
       "      <td>0.2100</td>\n",
       "      <td>1.000000e-02</td>\n",
       "      <td>0.03923</td>\n",
       "      <td>0.18077</td>\n",
       "      <td>0.04900</td>\n",
       "      <td>0.17100</td>\n",
       "      <td>0.24286</td>\n",
       "      <td>0.02286</td>\n",
       "    </tr>\n",
       "    <tr>\n",
       "      <th>23</th>\n",
       "      <td>0.23</td>\n",
       "      <td>0.2163</td>\n",
       "      <td>1.370000e-02</td>\n",
       "      <td>0.04052</td>\n",
       "      <td>0.18948</td>\n",
       "      <td>0.05213</td>\n",
       "      <td>0.17787</td>\n",
       "      <td>0.26062</td>\n",
       "      <td>0.03062</td>\n",
       "    </tr>\n",
       "    <tr>\n",
       "      <th>24</th>\n",
       "      <td>0.24</td>\n",
       "      <td>0.2166</td>\n",
       "      <td>2.340000e-02</td>\n",
       "      <td>0.04267</td>\n",
       "      <td>0.19733</td>\n",
       "      <td>0.05247</td>\n",
       "      <td>0.18753</td>\n",
       "      <td>0.26236</td>\n",
       "      <td>0.02236</td>\n",
       "    </tr>\n",
       "    <tr>\n",
       "      <th>25</th>\n",
       "      <td>0.25</td>\n",
       "      <td>0.2284</td>\n",
       "      <td>2.160000e-02</td>\n",
       "      <td>0.04354</td>\n",
       "      <td>0.20646</td>\n",
       "      <td>0.05377</td>\n",
       "      <td>0.19623</td>\n",
       "      <td>0.27350</td>\n",
       "      <td>0.02350</td>\n",
       "    </tr>\n",
       "    <tr>\n",
       "      <th>26</th>\n",
       "      <td>0.26</td>\n",
       "      <td>0.2393</td>\n",
       "      <td>2.070000e-02</td>\n",
       "      <td>0.04360</td>\n",
       "      <td>0.21640</td>\n",
       "      <td>0.05569</td>\n",
       "      <td>0.20431</td>\n",
       "      <td>0.29216</td>\n",
       "      <td>0.03216</td>\n",
       "    </tr>\n",
       "    <tr>\n",
       "      <th>27</th>\n",
       "      <td>0.27</td>\n",
       "      <td>0.2504</td>\n",
       "      <td>1.960000e-02</td>\n",
       "      <td>0.04420</td>\n",
       "      <td>0.22580</td>\n",
       "      <td>0.05735</td>\n",
       "      <td>0.21265</td>\n",
       "      <td>0.29574</td>\n",
       "      <td>0.02574</td>\n",
       "    </tr>\n",
       "    <tr>\n",
       "      <th>28</th>\n",
       "      <td>0.28</td>\n",
       "      <td>0.2680</td>\n",
       "      <td>1.200000e-02</td>\n",
       "      <td>0.04662</td>\n",
       "      <td>0.23338</td>\n",
       "      <td>0.06255</td>\n",
       "      <td>0.21745</td>\n",
       "      <td>0.29702</td>\n",
       "      <td>0.01702</td>\n",
       "    </tr>\n",
       "    <tr>\n",
       "      <th>29</th>\n",
       "      <td>0.29</td>\n",
       "      <td>0.2700</td>\n",
       "      <td>2.000000e-02</td>\n",
       "      <td>0.04676</td>\n",
       "      <td>0.24324</td>\n",
       "      <td>0.06303</td>\n",
       "      <td>0.22697</td>\n",
       "      <td>0.30253</td>\n",
       "      <td>0.01253</td>\n",
       "    </tr>\n",
       "    <tr>\n",
       "      <th>30</th>\n",
       "      <td>0.30</td>\n",
       "      <td>0.2758</td>\n",
       "      <td>2.420000e-02</td>\n",
       "      <td>0.04835</td>\n",
       "      <td>0.25165</td>\n",
       "      <td>0.06690</td>\n",
       "      <td>0.23310</td>\n",
       "      <td>0.30769</td>\n",
       "      <td>0.00769</td>\n",
       "    </tr>\n",
       "    <tr>\n",
       "      <th>...</th>\n",
       "      <td>...</td>\n",
       "      <td>...</td>\n",
       "      <td>...</td>\n",
       "      <td>...</td>\n",
       "      <td>...</td>\n",
       "      <td>...</td>\n",
       "      <td>...</td>\n",
       "      <td>...</td>\n",
       "      <td>...</td>\n",
       "    </tr>\n",
       "    <tr>\n",
       "      <th>71</th>\n",
       "      <td>0.71</td>\n",
       "      <td>0.6909</td>\n",
       "      <td>1.910000e-02</td>\n",
       "      <td>0.13485</td>\n",
       "      <td>0.57515</td>\n",
       "      <td>0.15728</td>\n",
       "      <td>0.55272</td>\n",
       "      <td>0.73860</td>\n",
       "      <td>0.02860</td>\n",
       "    </tr>\n",
       "    <tr>\n",
       "      <th>72</th>\n",
       "      <td>0.72</td>\n",
       "      <td>0.6915</td>\n",
       "      <td>2.850000e-02</td>\n",
       "      <td>0.13547</td>\n",
       "      <td>0.58453</td>\n",
       "      <td>0.16096</td>\n",
       "      <td>0.55904</td>\n",
       "      <td>0.77057</td>\n",
       "      <td>0.05057</td>\n",
       "    </tr>\n",
       "    <tr>\n",
       "      <th>73</th>\n",
       "      <td>0.73</td>\n",
       "      <td>0.7133</td>\n",
       "      <td>1.670000e-02</td>\n",
       "      <td>0.13969</td>\n",
       "      <td>0.59031</td>\n",
       "      <td>0.16277</td>\n",
       "      <td>0.56723</td>\n",
       "      <td>0.77114</td>\n",
       "      <td>0.04114</td>\n",
       "    </tr>\n",
       "    <tr>\n",
       "      <th>74</th>\n",
       "      <td>0.74</td>\n",
       "      <td>0.7161</td>\n",
       "      <td>2.390000e-02</td>\n",
       "      <td>0.14081</td>\n",
       "      <td>0.59919</td>\n",
       "      <td>0.16406</td>\n",
       "      <td>0.57594</td>\n",
       "      <td>0.77203</td>\n",
       "      <td>0.03203</td>\n",
       "    </tr>\n",
       "    <tr>\n",
       "      <th>75</th>\n",
       "      <td>0.75</td>\n",
       "      <td>0.7192</td>\n",
       "      <td>3.080000e-02</td>\n",
       "      <td>0.14295</td>\n",
       "      <td>0.60705</td>\n",
       "      <td>0.16561</td>\n",
       "      <td>0.58439</td>\n",
       "      <td>0.77821</td>\n",
       "      <td>0.02821</td>\n",
       "    </tr>\n",
       "    <tr>\n",
       "      <th>76</th>\n",
       "      <td>0.76</td>\n",
       "      <td>0.7248</td>\n",
       "      <td>3.520000e-02</td>\n",
       "      <td>0.14672</td>\n",
       "      <td>0.61328</td>\n",
       "      <td>0.16893</td>\n",
       "      <td>0.59107</td>\n",
       "      <td>0.78584</td>\n",
       "      <td>0.02584</td>\n",
       "    </tr>\n",
       "    <tr>\n",
       "      <th>77</th>\n",
       "      <td>0.77</td>\n",
       "      <td>0.7257</td>\n",
       "      <td>4.430000e-02</td>\n",
       "      <td>0.14707</td>\n",
       "      <td>0.62293</td>\n",
       "      <td>0.17491</td>\n",
       "      <td>0.59509</td>\n",
       "      <td>0.79146</td>\n",
       "      <td>0.02146</td>\n",
       "    </tr>\n",
       "    <tr>\n",
       "      <th>78</th>\n",
       "      <td>0.78</td>\n",
       "      <td>0.7264</td>\n",
       "      <td>5.360000e-02</td>\n",
       "      <td>0.14744</td>\n",
       "      <td>0.63256</td>\n",
       "      <td>0.17529</td>\n",
       "      <td>0.60471</td>\n",
       "      <td>0.79178</td>\n",
       "      <td>0.01178</td>\n",
       "    </tr>\n",
       "    <tr>\n",
       "      <th>79</th>\n",
       "      <td>0.79</td>\n",
       "      <td>0.7342</td>\n",
       "      <td>5.580000e-02</td>\n",
       "      <td>0.14916</td>\n",
       "      <td>0.64084</td>\n",
       "      <td>0.17744</td>\n",
       "      <td>0.61256</td>\n",
       "      <td>0.80226</td>\n",
       "      <td>0.01226</td>\n",
       "    </tr>\n",
       "    <tr>\n",
       "      <th>80</th>\n",
       "      <td>0.80</td>\n",
       "      <td>0.7364</td>\n",
       "      <td>6.360000e-02</td>\n",
       "      <td>0.15161</td>\n",
       "      <td>0.64839</td>\n",
       "      <td>0.17802</td>\n",
       "      <td>0.62198</td>\n",
       "      <td>0.80958</td>\n",
       "      <td>0.00958</td>\n",
       "    </tr>\n",
       "    <tr>\n",
       "      <th>81</th>\n",
       "      <td>0.81</td>\n",
       "      <td>0.7656</td>\n",
       "      <td>4.440000e-02</td>\n",
       "      <td>0.15472</td>\n",
       "      <td>0.65528</td>\n",
       "      <td>0.18114</td>\n",
       "      <td>0.62886</td>\n",
       "      <td>0.81475</td>\n",
       "      <td>0.00475</td>\n",
       "    </tr>\n",
       "    <tr>\n",
       "      <th>82</th>\n",
       "      <td>0.82</td>\n",
       "      <td>0.7715</td>\n",
       "      <td>4.850000e-02</td>\n",
       "      <td>0.15916</td>\n",
       "      <td>0.66084</td>\n",
       "      <td>0.18150</td>\n",
       "      <td>0.63850</td>\n",
       "      <td>0.82755</td>\n",
       "      <td>0.00755</td>\n",
       "    </tr>\n",
       "    <tr>\n",
       "      <th>83</th>\n",
       "      <td>0.83</td>\n",
       "      <td>0.7724</td>\n",
       "      <td>5.760000e-02</td>\n",
       "      <td>0.16187</td>\n",
       "      <td>0.66813</td>\n",
       "      <td>0.18353</td>\n",
       "      <td>0.64647</td>\n",
       "      <td>0.82818</td>\n",
       "      <td>0.00182</td>\n",
       "    </tr>\n",
       "    <tr>\n",
       "      <th>84</th>\n",
       "      <td>0.84</td>\n",
       "      <td>0.7815</td>\n",
       "      <td>5.850000e-02</td>\n",
       "      <td>0.16289</td>\n",
       "      <td>0.67711</td>\n",
       "      <td>0.18407</td>\n",
       "      <td>0.65593</td>\n",
       "      <td>0.84118</td>\n",
       "      <td>0.00118</td>\n",
       "    </tr>\n",
       "    <tr>\n",
       "      <th>85</th>\n",
       "      <td>0.85</td>\n",
       "      <td>0.7842</td>\n",
       "      <td>6.580000e-02</td>\n",
       "      <td>0.17353</td>\n",
       "      <td>0.67647</td>\n",
       "      <td>0.19259</td>\n",
       "      <td>0.65741</td>\n",
       "      <td>0.86793</td>\n",
       "      <td>0.01793</td>\n",
       "    </tr>\n",
       "    <tr>\n",
       "      <th>86</th>\n",
       "      <td>0.86</td>\n",
       "      <td>0.7908</td>\n",
       "      <td>6.920000e-02</td>\n",
       "      <td>0.17362</td>\n",
       "      <td>0.68638</td>\n",
       "      <td>0.19331</td>\n",
       "      <td>0.66669</td>\n",
       "      <td>0.86794</td>\n",
       "      <td>0.00794</td>\n",
       "    </tr>\n",
       "    <tr>\n",
       "      <th>87</th>\n",
       "      <td>0.87</td>\n",
       "      <td>0.8028</td>\n",
       "      <td>6.720000e-02</td>\n",
       "      <td>0.17606</td>\n",
       "      <td>0.69394</td>\n",
       "      <td>0.19352</td>\n",
       "      <td>0.67648</td>\n",
       "      <td>0.86936</td>\n",
       "      <td>0.00064</td>\n",
       "    </tr>\n",
       "    <tr>\n",
       "      <th>88</th>\n",
       "      <td>0.88</td>\n",
       "      <td>0.8100</td>\n",
       "      <td>7.000000e-02</td>\n",
       "      <td>0.18099</td>\n",
       "      <td>0.69901</td>\n",
       "      <td>0.19397</td>\n",
       "      <td>0.68603</td>\n",
       "      <td>0.88667</td>\n",
       "      <td>0.00667</td>\n",
       "    </tr>\n",
       "    <tr>\n",
       "      <th>89</th>\n",
       "      <td>0.89</td>\n",
       "      <td>0.8100</td>\n",
       "      <td>8.000000e-02</td>\n",
       "      <td>0.18286</td>\n",
       "      <td>0.70714</td>\n",
       "      <td>0.19743</td>\n",
       "      <td>0.69257</td>\n",
       "      <td>0.88673</td>\n",
       "      <td>0.00327</td>\n",
       "    </tr>\n",
       "    <tr>\n",
       "      <th>90</th>\n",
       "      <td>0.90</td>\n",
       "      <td>0.8100</td>\n",
       "      <td>9.000000e-02</td>\n",
       "      <td>0.18999</td>\n",
       "      <td>0.71001</td>\n",
       "      <td>0.19803</td>\n",
       "      <td>0.70197</td>\n",
       "      <td>0.91099</td>\n",
       "      <td>0.01099</td>\n",
       "    </tr>\n",
       "    <tr>\n",
       "      <th>91</th>\n",
       "      <td>0.91</td>\n",
       "      <td>0.8100</td>\n",
       "      <td>1.000000e-01</td>\n",
       "      <td>0.19206</td>\n",
       "      <td>0.71794</td>\n",
       "      <td>0.19818</td>\n",
       "      <td>0.71182</td>\n",
       "      <td>0.91119</td>\n",
       "      <td>0.00119</td>\n",
       "    </tr>\n",
       "    <tr>\n",
       "      <th>92</th>\n",
       "      <td>0.92</td>\n",
       "      <td>0.8172</td>\n",
       "      <td>1.028000e-01</td>\n",
       "      <td>0.19262</td>\n",
       "      <td>0.72738</td>\n",
       "      <td>0.19826</td>\n",
       "      <td>0.72174</td>\n",
       "      <td>0.91194</td>\n",
       "      <td>0.00806</td>\n",
       "    </tr>\n",
       "    <tr>\n",
       "      <th>93</th>\n",
       "      <td>0.93</td>\n",
       "      <td>0.8344</td>\n",
       "      <td>9.560000e-02</td>\n",
       "      <td>0.19452</td>\n",
       "      <td>0.73548</td>\n",
       "      <td>0.20864</td>\n",
       "      <td>0.72136</td>\n",
       "      <td>0.92563</td>\n",
       "      <td>0.00437</td>\n",
       "    </tr>\n",
       "    <tr>\n",
       "      <th>94</th>\n",
       "      <td>0.94</td>\n",
       "      <td>0.8441</td>\n",
       "      <td>9.590000e-02</td>\n",
       "      <td>0.19910</td>\n",
       "      <td>0.74090</td>\n",
       "      <td>0.21031</td>\n",
       "      <td>0.72969</td>\n",
       "      <td>0.94133</td>\n",
       "      <td>0.00133</td>\n",
       "    </tr>\n",
       "    <tr>\n",
       "      <th>95</th>\n",
       "      <td>0.95</td>\n",
       "      <td>0.8558</td>\n",
       "      <td>9.420000e-02</td>\n",
       "      <td>0.20286</td>\n",
       "      <td>0.74714</td>\n",
       "      <td>0.21054</td>\n",
       "      <td>0.73946</td>\n",
       "      <td>0.97013</td>\n",
       "      <td>0.02013</td>\n",
       "    </tr>\n",
       "    <tr>\n",
       "      <th>96</th>\n",
       "      <td>0.96</td>\n",
       "      <td>0.8796</td>\n",
       "      <td>8.040000e-02</td>\n",
       "      <td>0.20598</td>\n",
       "      <td>0.75402</td>\n",
       "      <td>0.21179</td>\n",
       "      <td>0.74821</td>\n",
       "      <td>0.97053</td>\n",
       "      <td>0.01053</td>\n",
       "    </tr>\n",
       "    <tr>\n",
       "      <th>97</th>\n",
       "      <td>0.97</td>\n",
       "      <td>0.8844</td>\n",
       "      <td>8.560000e-02</td>\n",
       "      <td>0.21125</td>\n",
       "      <td>0.75875</td>\n",
       "      <td>0.21204</td>\n",
       "      <td>0.75796</td>\n",
       "      <td>0.97242</td>\n",
       "      <td>0.00242</td>\n",
       "    </tr>\n",
       "    <tr>\n",
       "      <th>98</th>\n",
       "      <td>0.98</td>\n",
       "      <td>0.9049</td>\n",
       "      <td>7.510000e-02</td>\n",
       "      <td>0.21267</td>\n",
       "      <td>0.76733</td>\n",
       "      <td>0.21287</td>\n",
       "      <td>0.76713</td>\n",
       "      <td>0.97730</td>\n",
       "      <td>0.00270</td>\n",
       "    </tr>\n",
       "    <tr>\n",
       "      <th>99</th>\n",
       "      <td>0.99</td>\n",
       "      <td>0.9312</td>\n",
       "      <td>5.880000e-02</td>\n",
       "      <td>0.21322</td>\n",
       "      <td>0.77678</td>\n",
       "      <td>0.21341</td>\n",
       "      <td>0.77659</td>\n",
       "      <td>0.97908</td>\n",
       "      <td>0.01092</td>\n",
       "    </tr>\n",
       "    <tr>\n",
       "      <th>100</th>\n",
       "      <td>1.00</td>\n",
       "      <td>0.9790</td>\n",
       "      <td>2.100000e-02</td>\n",
       "      <td>NaN</td>\n",
       "      <td>NaN</td>\n",
       "      <td>NaN</td>\n",
       "      <td>NaN</td>\n",
       "      <td>0.99738</td>\n",
       "      <td>0.00262</td>\n",
       "    </tr>\n",
       "  </tbody>\n",
       "</table>\n",
       "<p>100 rows × 9 columns</p>\n",
       "</div>"
      ],
      "text/plain": [
       "     F(Xi)  Xi_CuMe  Xi-F(Xi)_CuMe  Xi_CoMu  Xi-F(Xi)_CoMu  Xi_CoMi  \\\n",
       "1     0.01   0.0140   4.000000e-03  0.00525        0.00475  0.00928   \n",
       "2     0.02   0.0196   4.000000e-04  0.00606        0.01394  0.01134   \n",
       "3     0.03   0.0362   6.200000e-03  0.00674        0.02326  0.01241   \n",
       "4     0.04   0.0384   1.600000e-03  0.00864        0.03136  0.01286   \n",
       "5     0.05   0.0742   2.420000e-02  0.00893        0.04107  0.01333   \n",
       "6     0.06   0.0896   2.960000e-02  0.00916        0.05084  0.01468   \n",
       "7     0.07   0.0965   2.650000e-02  0.01387        0.05613  0.01536   \n",
       "8     0.08   0.1007   2.070000e-02  0.01423        0.06577  0.01790   \n",
       "9     0.09   0.1310   4.100000e-02  0.01501        0.07499  0.02470   \n",
       "10    0.10   0.1331   3.310000e-02  0.01710        0.08290  0.02544   \n",
       "11    0.11   0.1474   3.740000e-02  0.01741        0.09259  0.02764   \n",
       "12    0.12   0.1506   3.060000e-02  0.01896        0.10104  0.02908   \n",
       "13    0.13   0.1622   3.220000e-02  0.02113        0.10887  0.03075   \n",
       "14    0.14   0.1623   2.230000e-02  0.02815        0.11185  0.03114   \n",
       "15    0.15   0.1649   1.490000e-02  0.03030        0.11970  0.03372   \n",
       "16    0.16   0.1726   1.260000e-02  0.03180        0.12820  0.03516   \n",
       "17    0.17   0.1824   1.240000e-02  0.03396        0.13604  0.03958   \n",
       "18    0.18   0.2024   2.240000e-02  0.03426        0.14574  0.04018   \n",
       "19    0.19   0.2082   1.820000e-02  0.03591        0.15409  0.04248   \n",
       "20    0.20   0.2100   1.000000e-02  0.03630        0.16370  0.04579   \n",
       "21    0.21   0.2100   2.775558e-17  0.03740        0.17260  0.04687   \n",
       "22    0.22   0.2100   1.000000e-02  0.03923        0.18077  0.04900   \n",
       "23    0.23   0.2163   1.370000e-02  0.04052        0.18948  0.05213   \n",
       "24    0.24   0.2166   2.340000e-02  0.04267        0.19733  0.05247   \n",
       "25    0.25   0.2284   2.160000e-02  0.04354        0.20646  0.05377   \n",
       "26    0.26   0.2393   2.070000e-02  0.04360        0.21640  0.05569   \n",
       "27    0.27   0.2504   1.960000e-02  0.04420        0.22580  0.05735   \n",
       "28    0.28   0.2680   1.200000e-02  0.04662        0.23338  0.06255   \n",
       "29    0.29   0.2700   2.000000e-02  0.04676        0.24324  0.06303   \n",
       "30    0.30   0.2758   2.420000e-02  0.04835        0.25165  0.06690   \n",
       "..     ...      ...            ...      ...            ...      ...   \n",
       "71    0.71   0.6909   1.910000e-02  0.13485        0.57515  0.15728   \n",
       "72    0.72   0.6915   2.850000e-02  0.13547        0.58453  0.16096   \n",
       "73    0.73   0.7133   1.670000e-02  0.13969        0.59031  0.16277   \n",
       "74    0.74   0.7161   2.390000e-02  0.14081        0.59919  0.16406   \n",
       "75    0.75   0.7192   3.080000e-02  0.14295        0.60705  0.16561   \n",
       "76    0.76   0.7248   3.520000e-02  0.14672        0.61328  0.16893   \n",
       "77    0.77   0.7257   4.430000e-02  0.14707        0.62293  0.17491   \n",
       "78    0.78   0.7264   5.360000e-02  0.14744        0.63256  0.17529   \n",
       "79    0.79   0.7342   5.580000e-02  0.14916        0.64084  0.17744   \n",
       "80    0.80   0.7364   6.360000e-02  0.15161        0.64839  0.17802   \n",
       "81    0.81   0.7656   4.440000e-02  0.15472        0.65528  0.18114   \n",
       "82    0.82   0.7715   4.850000e-02  0.15916        0.66084  0.18150   \n",
       "83    0.83   0.7724   5.760000e-02  0.16187        0.66813  0.18353   \n",
       "84    0.84   0.7815   5.850000e-02  0.16289        0.67711  0.18407   \n",
       "85    0.85   0.7842   6.580000e-02  0.17353        0.67647  0.19259   \n",
       "86    0.86   0.7908   6.920000e-02  0.17362        0.68638  0.19331   \n",
       "87    0.87   0.8028   6.720000e-02  0.17606        0.69394  0.19352   \n",
       "88    0.88   0.8100   7.000000e-02  0.18099        0.69901  0.19397   \n",
       "89    0.89   0.8100   8.000000e-02  0.18286        0.70714  0.19743   \n",
       "90    0.90   0.8100   9.000000e-02  0.18999        0.71001  0.19803   \n",
       "91    0.91   0.8100   1.000000e-01  0.19206        0.71794  0.19818   \n",
       "92    0.92   0.8172   1.028000e-01  0.19262        0.72738  0.19826   \n",
       "93    0.93   0.8344   9.560000e-02  0.19452        0.73548  0.20864   \n",
       "94    0.94   0.8441   9.590000e-02  0.19910        0.74090  0.21031   \n",
       "95    0.95   0.8558   9.420000e-02  0.20286        0.74714  0.21054   \n",
       "96    0.96   0.8796   8.040000e-02  0.20598        0.75402  0.21179   \n",
       "97    0.97   0.8844   8.560000e-02  0.21125        0.75875  0.21204   \n",
       "98    0.98   0.9049   7.510000e-02  0.21267        0.76733  0.21287   \n",
       "99    0.99   0.9312   5.880000e-02  0.21322        0.77678  0.21341   \n",
       "100   1.00   0.9790   2.100000e-02      NaN            NaN      NaN   \n",
       "\n",
       "     Xi-F(Xi)_CoMi    Xi_Py  Xi-F(Xi)_Py  \n",
       "1          0.00072  0.00100      0.00900  \n",
       "2          0.00866  0.02006      0.00006  \n",
       "3          0.01759  0.03810      0.00810  \n",
       "4          0.02714  0.04866      0.00866  \n",
       "5          0.03667  0.06228      0.01228  \n",
       "6          0.04532  0.12133      0.06133  \n",
       "7          0.05464  0.12183      0.05183  \n",
       "8          0.06210  0.12937      0.04937  \n",
       "9          0.06530  0.13123      0.04123  \n",
       "10         0.07456  0.13943      0.03943  \n",
       "11         0.08236  0.14684      0.03684  \n",
       "12         0.09092  0.15421      0.03421  \n",
       "13         0.09925  0.16483      0.03483  \n",
       "14         0.10886  0.16866      0.02866  \n",
       "15         0.11628  0.17928      0.02928  \n",
       "16         0.12484  0.18150      0.02150  \n",
       "17         0.13042  0.20032      0.03032  \n",
       "18         0.13982  0.20102      0.02102  \n",
       "19         0.14752  0.20966      0.01966  \n",
       "20         0.15421  0.23103      0.03103  \n",
       "21         0.16313  0.24193      0.03193  \n",
       "22         0.17100  0.24286      0.02286  \n",
       "23         0.17787  0.26062      0.03062  \n",
       "24         0.18753  0.26236      0.02236  \n",
       "25         0.19623  0.27350      0.02350  \n",
       "26         0.20431  0.29216      0.03216  \n",
       "27         0.21265  0.29574      0.02574  \n",
       "28         0.21745  0.29702      0.01702  \n",
       "29         0.22697  0.30253      0.01253  \n",
       "30         0.23310  0.30769      0.00769  \n",
       "..             ...      ...          ...  \n",
       "71         0.55272  0.73860      0.02860  \n",
       "72         0.55904  0.77057      0.05057  \n",
       "73         0.56723  0.77114      0.04114  \n",
       "74         0.57594  0.77203      0.03203  \n",
       "75         0.58439  0.77821      0.02821  \n",
       "76         0.59107  0.78584      0.02584  \n",
       "77         0.59509  0.79146      0.02146  \n",
       "78         0.60471  0.79178      0.01178  \n",
       "79         0.61256  0.80226      0.01226  \n",
       "80         0.62198  0.80958      0.00958  \n",
       "81         0.62886  0.81475      0.00475  \n",
       "82         0.63850  0.82755      0.00755  \n",
       "83         0.64647  0.82818      0.00182  \n",
       "84         0.65593  0.84118      0.00118  \n",
       "85         0.65741  0.86793      0.01793  \n",
       "86         0.66669  0.86794      0.00794  \n",
       "87         0.67648  0.86936      0.00064  \n",
       "88         0.68603  0.88667      0.00667  \n",
       "89         0.69257  0.88673      0.00327  \n",
       "90         0.70197  0.91099      0.01099  \n",
       "91         0.71182  0.91119      0.00119  \n",
       "92         0.72174  0.91194      0.00806  \n",
       "93         0.72136  0.92563      0.00437  \n",
       "94         0.72969  0.94133      0.00133  \n",
       "95         0.73946  0.97013      0.02013  \n",
       "96         0.74821  0.97053      0.01053  \n",
       "97         0.75796  0.97242      0.00242  \n",
       "98         0.76713  0.97730      0.00270  \n",
       "99         0.77659  0.97908      0.01092  \n",
       "100            NaN  0.99738      0.00262  \n",
       "\n",
       "[100 rows x 9 columns]"
      ]
     },
     "execution_count": 133,
     "metadata": {},
     "output_type": "execute_result"
    }
   ],
   "source": [
    "tabk"
   ]
  },
  {
   "cell_type": "code",
   "execution_count": 125,
   "metadata": {},
   "outputs": [
    {
     "data": {
      "text/plain": [
       "0.1028"
      ]
     },
     "execution_count": 125,
     "metadata": {},
     "output_type": "execute_result"
    }
   ],
   "source": [
    "tabk['Xi-F(Xi)_CuMe'].max()"
   ]
  },
  {
   "cell_type": "code",
   "execution_count": 126,
   "metadata": {},
   "outputs": [
    {
     "data": {
      "text/plain": [
       "0.77678"
      ]
     },
     "execution_count": 126,
     "metadata": {},
     "output_type": "execute_result"
    }
   ],
   "source": [
    "tabk['Xi-F(Xi)_CoMu'].max()"
   ]
  },
  {
   "cell_type": "code",
   "execution_count": 96,
   "metadata": {},
   "outputs": [
    {
     "data": {
      "text/plain": [
       "0.94464"
      ]
     },
     "execution_count": 96,
     "metadata": {},
     "output_type": "execute_result"
    }
   ],
   "source": [
    "tabk['Xi-F(Xi)_CoMi'].max()"
   ]
  },
  {
   "cell_type": "code",
   "execution_count": 123,
   "metadata": {},
   "outputs": [
    {
     "data": {
      "text/plain": [
       "0.06132999999999999"
      ]
     },
     "execution_count": 123,
     "metadata": {},
     "output_type": "execute_result"
    }
   ],
   "source": [
    "tabk['Xi-F(Xi)_Py'].max()"
   ]
  },
  {
   "cell_type": "markdown",
   "metadata": {},
   "source": [
    "$D_{0.05,100}=\\frac{1.36}{\\sqrt{100}}=0.136$"
   ]
  },
  {
   "cell_type": "markdown",
   "metadata": {},
   "source": [
    "## Pruebas de independencia"
   ]
  },
  {
   "cell_type": "markdown",
   "metadata": {},
   "source": [
    "### Prueba de corridas arriba y abajo"
   ]
  },
  {
   "cell_type": "code",
   "execution_count": 64,
   "metadata": {},
   "outputs": [],
   "source": [
    "lista=[None]*100"
   ]
  },
  {
   "cell_type": "code",
   "execution_count": 5,
   "metadata": {},
   "outputs": [],
   "source": [
    "def pcaya(a,b):\n",
    "    if(a<=b):\n",
    "        return 1\n",
    "    else:\n",
    "        return 0"
   ]
  },
  {
   "cell_type": "code",
   "execution_count": 13,
   "metadata": {},
   "outputs": [],
   "source": [
    "def cont_rachas(l):\n",
    "    rachas=0\n",
    "    for i in range(0,len(l)-1):\n",
    "        if(l[i]!=l[i+1]):\n",
    "            rachas=rachas+1\n",
    "    return rachas"
   ]
  },
  {
   "cell_type": "code",
   "execution_count": 21,
   "metadata": {},
   "outputs": [],
   "source": [
    "for i in range(1,100):\n",
    "    lista[i-1]=pcaya(df.Von_Neumann.loc[i-1],df.Von_Neumann.loc[i])"
   ]
  },
  {
   "cell_type": "code",
   "execution_count": 22,
   "metadata": {},
   "outputs": [
    {
     "data": {
      "text/plain": [
       "56"
      ]
     },
     "execution_count": 22,
     "metadata": {},
     "output_type": "execute_result"
    }
   ],
   "source": [
    "r_cume = cont_rachas(lista)\n",
    "r_cume"
   ]
  },
  {
   "cell_type": "code",
   "execution_count": 23,
   "metadata": {},
   "outputs": [],
   "source": [
    "for i in range(1,100):\n",
    "    lista[i-1]=pcaya(df.Congruencias_Multiplicativas.loc[i-1],df.Congruencias_Multiplicativas.loc[i])"
   ]
  },
  {
   "cell_type": "code",
   "execution_count": 24,
   "metadata": {
    "scrolled": false
   },
   "outputs": [
    {
     "data": {
      "text/plain": [
       "65"
      ]
     },
     "execution_count": 24,
     "metadata": {},
     "output_type": "execute_result"
    }
   ],
   "source": [
    "r_comu = cont_rachas(lista)\n",
    "r_comu "
   ]
  },
  {
   "cell_type": "code",
   "execution_count": 25,
   "metadata": {},
   "outputs": [],
   "source": [
    "for i in range(1,100):\n",
    "    lista[i-1]=pcaya(df.Congruencias_Mixtas.loc[i-1],df.Congruencias_Mixtas.loc[i])"
   ]
  },
  {
   "cell_type": "code",
   "execution_count": 26,
   "metadata": {},
   "outputs": [
    {
     "data": {
      "text/plain": [
       "16"
      ]
     },
     "execution_count": 26,
     "metadata": {},
     "output_type": "execute_result"
    }
   ],
   "source": [
    "r_comi = cont_rachas(lista)\n",
    "r_comi "
   ]
  },
  {
   "cell_type": "code",
   "execution_count": 27,
   "metadata": {},
   "outputs": [],
   "source": [
    "for i in range(1,100):\n",
    "    lista[i-1]=pcaya(df.Python.loc[i-1],df.Python.loc[i])"
   ]
  },
  {
   "cell_type": "code",
   "execution_count": 28,
   "metadata": {},
   "outputs": [
    {
     "data": {
      "text/plain": [
       "60"
      ]
     },
     "execution_count": 28,
     "metadata": {},
     "output_type": "execute_result"
    }
   ],
   "source": [
    "r_py = cont_rachas(lista)\n",
    "r_py"
   ]
  },
  {
   "cell_type": "code",
   "execution_count": 30,
   "metadata": {},
   "outputs": [
    {
     "data": {
      "text/plain": [
       "66.33333333333333"
      ]
     },
     "execution_count": 30,
     "metadata": {},
     "output_type": "execute_result"
    }
   ],
   "source": [
    "mu = (2*100-1)/3\n",
    "mu"
   ]
  },
  {
   "cell_type": "code",
   "execution_count": 34,
   "metadata": {},
   "outputs": [
    {
     "data": {
      "text/plain": [
       "4.1779846284489315"
      ]
     },
     "execution_count": 34,
     "metadata": {},
     "output_type": "execute_result"
    }
   ],
   "source": [
    "sigma = math.sqrt((16*100-29)/90)\n",
    "sigma"
   ]
  },
  {
   "cell_type": "markdown",
   "metadata": {},
   "source": [
    "$Z_{0.025}= \\pm 1.96$"
   ]
  },
  {
   "cell_type": "markdown",
   "metadata": {},
   "source": [
    "Estadístico para cuadadros medios"
   ]
  },
  {
   "cell_type": "code",
   "execution_count": 37,
   "metadata": {},
   "outputs": [
    {
     "data": {
      "text/plain": [
       "2.473281797872377"
      ]
     },
     "execution_count": 37,
     "metadata": {},
     "output_type": "execute_result"
    }
   ],
   "source": [
    "z = abs((r_cume-mu)/sigma)\n",
    "z"
   ]
  },
  {
   "cell_type": "markdown",
   "metadata": {},
   "source": [
    "Se rechaza la hipótesis nula ya que $2.47>1.96$, por lo que los números no son independientes"
   ]
  },
  {
   "cell_type": "markdown",
   "metadata": {},
   "source": [
    "Estadístico para congruencias multiplicativas"
   ]
  },
  {
   "cell_type": "code",
   "execution_count": 38,
   "metadata": {},
   "outputs": [
    {
     "data": {
      "text/plain": [
       "0.319133135209338"
      ]
     },
     "execution_count": 38,
     "metadata": {},
     "output_type": "execute_result"
    }
   ],
   "source": [
    "z = abs((r_comu-mu)/sigma)\n",
    "z"
   ]
  },
  {
   "cell_type": "markdown",
   "metadata": {},
   "source": [
    "No se rechaza la hipótesis nula, por lo que los números son independientes"
   ]
  },
  {
   "cell_type": "markdown",
   "metadata": {},
   "source": [
    "Estadístico para congruencias mixtas"
   ]
  },
  {
   "cell_type": "code",
   "execution_count": 39,
   "metadata": {},
   "outputs": [
    {
     "data": {
      "text/plain": [
       "12.04727585415255"
      ]
     },
     "execution_count": 39,
     "metadata": {},
     "output_type": "execute_result"
    }
   ],
   "source": [
    "z = abs((r_comi-mu)/sigma)\n",
    "z"
   ]
  },
  {
   "cell_type": "markdown",
   "metadata": {},
   "source": [
    "Se rechaza la hipótesis nula ya que $12.047>1.96$, por lo que los números no son independientes"
   ]
  },
  {
   "cell_type": "markdown",
   "metadata": {},
   "source": [
    "Estadístico para Python"
   ]
  },
  {
   "cell_type": "code",
   "execution_count": 40,
   "metadata": {},
   "outputs": [
    {
     "data": {
      "text/plain": [
       "1.5158823922443596"
      ]
     },
     "execution_count": 40,
     "metadata": {},
     "output_type": "execute_result"
    }
   ],
   "source": [
    "z = abs((r_py-mu)/sigma)\n",
    "z"
   ]
  },
  {
   "cell_type": "markdown",
   "metadata": {},
   "source": [
    "No se rechaza la hipótesis nula, por lo que los números son independientes"
   ]
  },
  {
   "cell_type": "markdown",
   "metadata": {},
   "source": [
    "### Prueba de corridas arriba y debajo de la media"
   ]
  },
  {
   "cell_type": "code",
   "execution_count": 56,
   "metadata": {},
   "outputs": [],
   "source": [
    "def pcayam(a):\n",
    "    if(a>.5):\n",
    "        return 1\n",
    "    else:\n",
    "        return 0"
   ]
  },
  {
   "cell_type": "code",
   "execution_count": 85,
   "metadata": {},
   "outputs": [],
   "source": [
    "for i in range(0,100):\n",
    "    lista[i]=pcayam(df.Von_Neumann.loc[i])"
   ]
  },
  {
   "cell_type": "code",
   "execution_count": 68,
   "metadata": {},
   "outputs": [
    {
     "name": "stdout",
     "output_type": "stream",
     "text": [
      "Unos: 53  \t Ceros: 47\n"
     ]
    }
   ],
   "source": [
    "u_cume = lista.count(1)\n",
    "c_cume = lista.count(0)\n",
    "print(\"Unos:\",u_cume,\" \\t Ceros:\", c_cume)"
   ]
  },
  {
   "cell_type": "code",
   "execution_count": 82,
   "metadata": {},
   "outputs": [
    {
     "data": {
      "text/plain": [
       "50.32"
      ]
     },
     "execution_count": 82,
     "metadata": {},
     "output_type": "execute_result"
    }
   ],
   "source": [
    "mu = ((2*u_cume*c_cume)/100) +0.5\n",
    "mu"
   ]
  },
  {
   "cell_type": "code",
   "execution_count": 84,
   "metadata": {},
   "outputs": [
    {
     "data": {
      "text/plain": [
       "4.956591774617113"
      ]
     },
     "execution_count": 84,
     "metadata": {},
     "output_type": "execute_result"
    }
   ],
   "source": [
    "sigma = math.sqrt(((2*u_cume*c_cume)*(2*u_cume*c_cume-100))/(100*100*99))\n",
    "sigma"
   ]
  },
  {
   "cell_type": "code",
   "execution_count": 86,
   "metadata": {},
   "outputs": [],
   "source": [
    "r_cume = cont_rachas(lista)"
   ]
  },
  {
   "cell_type": "markdown",
   "metadata": {},
   "source": [
    "Estadístico de prueba cuadrados medios"
   ]
  },
  {
   "cell_type": "code",
   "execution_count": 87,
   "metadata": {},
   "outputs": [
    {
     "data": {
      "text/plain": [
       "-1.6785727730508337"
      ]
     },
     "execution_count": 87,
     "metadata": {},
     "output_type": "execute_result"
    }
   ],
   "source": [
    "z = (r_cume-mu)/sigma\n",
    "z"
   ]
  },
  {
   "cell_type": "markdown",
   "metadata": {},
   "source": [
    "Se acepta la hipótesis nula, por lo que los datos son independientes"
   ]
  },
  {
   "cell_type": "code",
   "execution_count": 71,
   "metadata": {},
   "outputs": [],
   "source": [
    "for i in range(0,100):\n",
    "    lista[i]=pcayam(df.Congruencias_Multiplicativas.loc[i])"
   ]
  },
  {
   "cell_type": "code",
   "execution_count": 73,
   "metadata": {},
   "outputs": [
    {
     "name": "stdout",
     "output_type": "stream",
     "text": [
      "Unos: 0  \t Ceros: 100\n"
     ]
    }
   ],
   "source": [
    "u_comu = lista.count(1)\n",
    "c_comu = lista.count(0)\n",
    "print(\"Unos:\",u_comu,\" \\t Ceros:\", c_comu)"
   ]
  },
  {
   "cell_type": "code",
   "execution_count": 88,
   "metadata": {},
   "outputs": [
    {
     "data": {
      "text/plain": [
       "0.5"
      ]
     },
     "execution_count": 88,
     "metadata": {},
     "output_type": "execute_result"
    }
   ],
   "source": [
    "mu = ((2*u_comu*c_comu)/100) +0.5\n",
    "mu"
   ]
  },
  {
   "cell_type": "code",
   "execution_count": 89,
   "metadata": {},
   "outputs": [
    {
     "data": {
      "text/plain": [
       "0.0"
      ]
     },
     "execution_count": 89,
     "metadata": {},
     "output_type": "execute_result"
    }
   ],
   "source": [
    "sigma = math.sqrt(((2*u_comu*c_comu)*(2*u_comu*c_comu-100))/(100*100*99))\n",
    "sigma"
   ]
  },
  {
   "cell_type": "code",
   "execution_count": 90,
   "metadata": {},
   "outputs": [],
   "source": [
    "r_comu = cont_rachas(lista)"
   ]
  },
  {
   "cell_type": "markdown",
   "metadata": {},
   "source": [
    "Estadístico de prueba cuadrados medios"
   ]
  },
  {
   "cell_type": "code",
   "execution_count": 92,
   "metadata": {},
   "outputs": [
    {
     "ename": "ZeroDivisionError",
     "evalue": "float division by zero",
     "output_type": "error",
     "traceback": [
      "\u001b[1;31m---------------------------------------------------------------------------\u001b[0m",
      "\u001b[1;31mZeroDivisionError\u001b[0m                         Traceback (most recent call last)",
      "\u001b[1;32m<ipython-input-92-6081cdc7bf91>\u001b[0m in \u001b[0;36m<module>\u001b[1;34m\u001b[0m\n\u001b[1;32m----> 1\u001b[1;33m \u001b[0mz\u001b[0m \u001b[1;33m=\u001b[0m \u001b[1;33m(\u001b[0m\u001b[0mr_comu\u001b[0m\u001b[1;33m-\u001b[0m\u001b[0mmu\u001b[0m\u001b[1;33m)\u001b[0m\u001b[1;33m/\u001b[0m\u001b[0msigma\u001b[0m\u001b[1;33m\u001b[0m\u001b[1;33m\u001b[0m\u001b[0m\n\u001b[0m\u001b[0;32m      2\u001b[0m \u001b[0mz\u001b[0m\u001b[1;33m\u001b[0m\u001b[1;33m\u001b[0m\u001b[0m\n",
      "\u001b[1;31mZeroDivisionError\u001b[0m: float division by zero"
     ]
    }
   ],
   "source": [
    "z = (r_comu-mu)/sigma\n",
    "z"
   ]
  },
  {
   "cell_type": "markdown",
   "metadata": {},
   "source": [
    "El valor del estadístico de prueba tiende a infinito, por lo que no se acepta la hipótesis nula, así que los datos no son independientes"
   ]
  },
  {
   "cell_type": "code",
   "execution_count": 93,
   "metadata": {},
   "outputs": [],
   "source": [
    "for i in range(0,100):\n",
    "    lista[i]=pcayam(df.Congruencias_Mixtas.loc[i])"
   ]
  },
  {
   "cell_type": "code",
   "execution_count": 94,
   "metadata": {},
   "outputs": [
    {
     "name": "stdout",
     "output_type": "stream",
     "text": [
      "Unos: 0  \t Ceros: 100\n"
     ]
    }
   ],
   "source": [
    "u_comi = lista.count(1)\n",
    "c_comi = lista.count(0)\n",
    "print(\"Unos:\",u_comi,\" \\t Ceros:\", c_comi)"
   ]
  },
  {
   "cell_type": "code",
   "execution_count": 95,
   "metadata": {},
   "outputs": [
    {
     "data": {
      "text/plain": [
       "0.5"
      ]
     },
     "execution_count": 95,
     "metadata": {},
     "output_type": "execute_result"
    }
   ],
   "source": [
    "mu = ((2*u_comi*c_comi)/100) +0.5\n",
    "mu"
   ]
  },
  {
   "cell_type": "code",
   "execution_count": 96,
   "metadata": {},
   "outputs": [
    {
     "data": {
      "text/plain": [
       "0.0"
      ]
     },
     "execution_count": 96,
     "metadata": {},
     "output_type": "execute_result"
    }
   ],
   "source": [
    "sigma = math.sqrt(((2*u_comi*c_comi)*(2*u_comi*c_comi-100))/(100*100*99))\n",
    "sigma"
   ]
  },
  {
   "cell_type": "code",
   "execution_count": 86,
   "metadata": {},
   "outputs": [],
   "source": [
    "r_comi = cont_rachas(lista)"
   ]
  },
  {
   "cell_type": "markdown",
   "metadata": {},
   "source": [
    "Estadístico de prueba cuadrados medios"
   ]
  },
  {
   "cell_type": "code",
   "execution_count": 97,
   "metadata": {},
   "outputs": [
    {
     "ename": "ZeroDivisionError",
     "evalue": "float division by zero",
     "output_type": "error",
     "traceback": [
      "\u001b[1;31m---------------------------------------------------------------------------\u001b[0m",
      "\u001b[1;31mZeroDivisionError\u001b[0m                         Traceback (most recent call last)",
      "\u001b[1;32m<ipython-input-97-a640effb4162>\u001b[0m in \u001b[0;36m<module>\u001b[1;34m\u001b[0m\n\u001b[1;32m----> 1\u001b[1;33m \u001b[0mz\u001b[0m \u001b[1;33m=\u001b[0m \u001b[1;33m(\u001b[0m\u001b[0mr_comi\u001b[0m\u001b[1;33m-\u001b[0m\u001b[0mmu\u001b[0m\u001b[1;33m)\u001b[0m\u001b[1;33m/\u001b[0m\u001b[0msigma\u001b[0m\u001b[1;33m\u001b[0m\u001b[1;33m\u001b[0m\u001b[0m\n\u001b[0m\u001b[0;32m      2\u001b[0m \u001b[0mz\u001b[0m\u001b[1;33m\u001b[0m\u001b[1;33m\u001b[0m\u001b[0m\n",
      "\u001b[1;31mZeroDivisionError\u001b[0m: float division by zero"
     ]
    }
   ],
   "source": [
    "z = (r_comi-mu)/sigma\n",
    "z"
   ]
  },
  {
   "cell_type": "markdown",
   "metadata": {},
   "source": [
    "El valor del estadístico de prueba tiende a infinito, por lo que no se acepta la hipótesis nula, así que los datos no son independientes"
   ]
  },
  {
   "cell_type": "code",
   "execution_count": 98,
   "metadata": {},
   "outputs": [],
   "source": [
    "for i in range(0,100):\n",
    "    lista[i]=pcayam(df.Python.loc[i])"
   ]
  },
  {
   "cell_type": "code",
   "execution_count": 99,
   "metadata": {
    "scrolled": false
   },
   "outputs": [
    {
     "name": "stdout",
     "output_type": "stream",
     "text": [
      "Unos: 53  \t Ceros: 47\n"
     ]
    }
   ],
   "source": [
    "u_py = lista.count(1)\n",
    "c_py = lista.count(0)\n",
    "print(\"Unos:\",u_py,\" \\t Ceros:\", c_py)"
   ]
  },
  {
   "cell_type": "code",
   "execution_count": 100,
   "metadata": {},
   "outputs": [
    {
     "data": {
      "text/plain": [
       "50.32"
      ]
     },
     "execution_count": 100,
     "metadata": {},
     "output_type": "execute_result"
    }
   ],
   "source": [
    "mu = ((2*u_py*c_py)/100) +0.5\n",
    "mu"
   ]
  },
  {
   "cell_type": "code",
   "execution_count": 101,
   "metadata": {},
   "outputs": [
    {
     "data": {
      "text/plain": [
       "4.956591774617113"
      ]
     },
     "execution_count": 101,
     "metadata": {},
     "output_type": "execute_result"
    }
   ],
   "source": [
    "sigma = math.sqrt(((2*u_py*c_py)*(2*u_py*c_py-100))/(100*100*99))\n",
    "sigma"
   ]
  },
  {
   "cell_type": "code",
   "execution_count": 102,
   "metadata": {},
   "outputs": [],
   "source": [
    "r_py = cont_rachas(lista)"
   ]
  },
  {
   "cell_type": "markdown",
   "metadata": {},
   "source": [
    "Estadístico de prueba cuadrados medios"
   ]
  },
  {
   "cell_type": "code",
   "execution_count": 104,
   "metadata": {},
   "outputs": [
    {
     "data": {
      "text/plain": [
       "-0.6698150969385539"
      ]
     },
     "execution_count": 104,
     "metadata": {},
     "output_type": "execute_result"
    }
   ],
   "source": [
    "z = (r_py-mu)/sigma\n",
    "z"
   ]
  },
  {
   "cell_type": "markdown",
   "metadata": {},
   "source": [
    "Se acepta la hipótesis nula, por lo que los datos son independientes"
   ]
  },
  {
   "cell_type": "markdown",
   "metadata": {},
   "source": [
    "### De series"
   ]
  },
  {
   "cell_type": "code",
   "execution_count": null,
   "metadata": {},
   "outputs": [],
   "source": []
  },
  {
   "cell_type": "code",
   "execution_count": null,
   "metadata": {},
   "outputs": [],
   "source": []
  },
  {
   "cell_type": "code",
   "execution_count": null,
   "metadata": {},
   "outputs": [],
   "source": []
  },
  {
   "cell_type": "code",
   "execution_count": null,
   "metadata": {},
   "outputs": [],
   "source": []
  },
  {
   "cell_type": "code",
   "execution_count": null,
   "metadata": {},
   "outputs": [],
   "source": []
  },
  {
   "cell_type": "code",
   "execution_count": null,
   "metadata": {},
   "outputs": [],
   "source": []
  },
  {
   "cell_type": "code",
   "execution_count": null,
   "metadata": {},
   "outputs": [],
   "source": []
  },
  {
   "cell_type": "markdown",
   "metadata": {},
   "source": [
    "### De Póker"
   ]
  },
  {
   "cell_type": "markdown",
   "metadata": {},
   "source": [
    "### De huecos"
   ]
  },
  {
   "cell_type": "markdown",
   "metadata": {},
   "source": [
    "## Media"
   ]
  },
  {
   "cell_type": "code",
   "execution_count": 115,
   "metadata": {},
   "outputs": [
    {
     "name": "stdout",
     "output_type": "stream",
     "text": [
      "Intervalo de aceptación \n",
      " ( 0.4434196736194167 , 0.5565803263805833 )\n"
     ]
    }
   ],
   "source": [
    "print(\"Intervalo de aceptación \\n (\",0.5-1.96*(1/(math.sqrt(12*100))),\",\",0.5+1.96*(1/(math.sqrt(12*100))),\")\")"
   ]
  },
  {
   "cell_type": "markdown",
   "metadata": {},
   "source": [
    "Media de los números aletorios obtenidos con cuadrados medios"
   ]
  },
  {
   "cell_type": "code",
   "execution_count": 116,
   "metadata": {},
   "outputs": [
    {
     "data": {
      "text/plain": [
       "0.48796799999999996"
      ]
     },
     "execution_count": 116,
     "metadata": {},
     "output_type": "execute_result"
    }
   ],
   "source": [
    "df.Von_Neumann.mean()"
   ]
  },
  {
   "cell_type": "markdown",
   "metadata": {},
   "source": [
    "Se acepta la hipótesis de media 0.5"
   ]
  },
  {
   "cell_type": "markdown",
   "metadata": {},
   "source": [
    "Media de los números aletorios obtenidos con congruencias multiplicativas"
   ]
  },
  {
   "cell_type": "code",
   "execution_count": 118,
   "metadata": {},
   "outputs": [
    {
     "data": {
      "text/plain": [
       "0.09230379999999999"
      ]
     },
     "execution_count": 118,
     "metadata": {},
     "output_type": "execute_result"
    }
   ],
   "source": [
    "df.Congruencias_Multiplicativas.mean()"
   ]
  },
  {
   "cell_type": "markdown",
   "metadata": {},
   "source": [
    "Media de los números aletorios obtenidos con congruencias mixtas"
   ]
  },
  {
   "cell_type": "code",
   "execution_count": 120,
   "metadata": {},
   "outputs": [
    {
     "data": {
      "text/plain": [
       "0.10956599999999994"
      ]
     },
     "execution_count": 120,
     "metadata": {},
     "output_type": "execute_result"
    }
   ],
   "source": [
    "df.Congruencias_Mixtas.mean()"
   ]
  },
  {
   "cell_type": "markdown",
   "metadata": {},
   "source": [
    "No se acepta la hipótesis de media 0.5"
   ]
  },
  {
   "cell_type": "markdown",
   "metadata": {},
   "source": [
    "Media de los números aletorios obtenidos con Python"
   ]
  },
  {
   "cell_type": "code",
   "execution_count": 122,
   "metadata": {},
   "outputs": [
    {
     "data": {
      "text/plain": [
       "0.5221311"
      ]
     },
     "execution_count": 122,
     "metadata": {},
     "output_type": "execute_result"
    }
   ],
   "source": [
    "df.Python.mean()"
   ]
  },
  {
   "cell_type": "markdown",
   "metadata": {},
   "source": [
    "Se acepta la hipótesis nula de media 0.5"
   ]
  },
  {
   "cell_type": "markdown",
   "metadata": {},
   "source": [
    "## Varianza"
   ]
  },
  {
   "cell_type": "code",
   "execution_count": 125,
   "metadata": {},
   "outputs": [
    {
     "name": "stdout",
     "output_type": "stream",
     "text": [
      "Intervalo de aceptación \n",
      " ( 0.061184320266889074 , 0.10710592160133443 )\n"
     ]
    }
   ],
   "source": [
    "print(\"Intervalo de aceptación \\n (\",73.36/(12*100-1),\",\",128.42/(12*100-1),\")\")"
   ]
  },
  {
   "cell_type": "markdown",
   "metadata": {},
   "source": [
    "Varianza de los números aletorios obtenidos con cuadrados medios"
   ]
  },
  {
   "cell_type": "code",
   "execution_count": 126,
   "metadata": {},
   "outputs": [
    {
     "data": {
      "text/plain": [
       "0.07023942179393936"
      ]
     },
     "execution_count": 126,
     "metadata": {},
     "output_type": "execute_result"
    }
   ],
   "source": [
    "df.Von_Neumann.var()"
   ]
  },
  {
   "cell_type": "markdown",
   "metadata": {},
   "source": [
    "Varianza de los números aletorios obtenidos con congruencias multiplicativas"
   ]
  },
  {
   "cell_type": "code",
   "execution_count": 128,
   "metadata": {},
   "outputs": [
    {
     "data": {
      "text/plain": [
       "0.0037122240197575763"
      ]
     },
     "execution_count": 128,
     "metadata": {},
     "output_type": "execute_result"
    }
   ],
   "source": [
    "df.Congruencias_Multiplicativas.var()"
   ]
  },
  {
   "cell_type": "markdown",
   "metadata": {},
   "source": [
    "Varianza de los números aletorios obtenidos con congruencias mixtas"
   ]
  },
  {
   "cell_type": "code",
   "execution_count": 129,
   "metadata": {},
   "outputs": [
    {
     "data": {
      "text/plain": [
       "0.004052640559595961"
      ]
     },
     "execution_count": 129,
     "metadata": {},
     "output_type": "execute_result"
    }
   ],
   "source": [
    "df.Congruencias_Mixtas.var()"
   ]
  },
  {
   "cell_type": "markdown",
   "metadata": {},
   "source": [
    "Varianza de los números aletorios obtenidos con Python"
   ]
  },
  {
   "cell_type": "code",
   "execution_count": 127,
   "metadata": {},
   "outputs": [
    {
     "data": {
      "text/plain": [
       "0.0799264686098889"
      ]
     },
     "execution_count": 127,
     "metadata": {},
     "output_type": "execute_result"
    }
   ],
   "source": [
    "df.Python.var()"
   ]
  },
  {
   "cell_type": "markdown",
   "metadata": {},
   "source": [
    "### Conclusión"
   ]
  },
  {
   "cell_type": "markdown",
   "metadata": {},
   "source": [
    "El mejor generador de números aleatorios es Python"
   ]
  },
  {
   "cell_type": "code",
   "execution_count": null,
   "metadata": {},
   "outputs": [],
   "source": []
  }
 ],
 "metadata": {
  "kernelspec": {
   "display_name": "Python 3",
   "language": "python",
   "name": "python3"
  },
  "language_info": {
   "codemirror_mode": {
    "name": "ipython",
    "version": 3
   },
   "file_extension": ".py",
   "mimetype": "text/x-python",
   "name": "python",
   "nbconvert_exporter": "python",
   "pygments_lexer": "ipython3",
   "version": "3.7.4"
  }
 },
 "nbformat": 4,
 "nbformat_minor": 2
}
